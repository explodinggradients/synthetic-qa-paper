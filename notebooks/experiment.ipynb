{
 "cells": [
  {
   "cell_type": "markdown",
   "id": "75c1d280-98f1-4dfc-9886-670dcce85da6",
   "metadata": {},
   "source": [
    "## Sample Experiments"
   ]
  },
  {
   "cell_type": "code",
   "execution_count": 1,
   "id": "8af047ea-691c-49a7-a685-c669ba615621",
   "metadata": {},
   "outputs": [],
   "source": [
    "%load_ext autoreload\n",
    "%autoreload 2"
   ]
  },
  {
   "cell_type": "code",
   "execution_count": 2,
   "id": "931a8e46-ed43-464a-857c-3e59f2e2012f",
   "metadata": {},
   "outputs": [],
   "source": [
    "import os\n",
    "os.chdir('/Users/shahules/Myprojects/synthetic-qa-paper/src')"
   ]
  },
  {
   "cell_type": "code",
   "execution_count": 3,
   "id": "c8ccd147-ae07-40c1-872b-4a0d1bda44f4",
   "metadata": {},
   "outputs": [
    {
     "name": "stderr",
     "output_type": "stream",
     "text": [
      "/opt/anaconda3/envs/ragas/lib/python3.10/site-packages/pydantic/_internal/_fields.py:151: UserWarning: Field \"model_prompt\" has conflict with protected namespace \"model_\".\n",
      "\n",
      "You may be able to resolve this warning by setting `model_config['protected_namespaces'] = ()`.\n",
      "  warnings.warn(\n"
     ]
    }
   ],
   "source": [
    "from rag.config import ComponentConfig, Config,instantiate_component, DirectoryConfig, RetrieverConfig"
   ]
  },
  {
   "cell_type": "code",
   "execution_count": 4,
   "id": "f93926a2-49ea-4ab9-acb6-9830dd1ae5a6",
   "metadata": {},
   "outputs": [],
   "source": [
    "directory = DirectoryConfig(name=\"../datasets/Sample_Docs_Markdown/\")"
   ]
  },
  {
   "cell_type": "code",
   "execution_count": 5,
   "id": "b3eba3bc-9213-4f3e-bd18-367dc656cbf3",
   "metadata": {},
   "outputs": [],
   "source": [
    "config = Config(directory=directory)"
   ]
  },
  {
   "cell_type": "code",
   "execution_count": 6,
   "id": "6b5a3485-bec8-4bff-af4b-48815c7c791b",
   "metadata": {},
   "outputs": [
    {
     "data": {
      "text/plain": [
       "Config(directory=DirectoryConfig(name='../datasets/Sample_Docs_Markdown/', params={'sample_size': 1, 'show_progress': True}), experiment_name='default_experiment', text_splitter=ComponentConfig(class_path='langchain_text_splitters.RecursiveCharacterTextSplitter', params={'chunk_size': 512, 'chunk_overlap': 100}), embedding_model=ComponentConfig(class_path='langchain_openai.OpenAIEmbeddings', params={}), llm=ComponentConfig(class_path='langchain_openai.ChatOpenAI', params={'model': 'gpt-4o'}), retriever=RetrieverConfig(type='vanilla', params={'search_kwargs': {'k': 2}}), model_prompt='Answer the user query based on the context')"
      ]
     },
     "execution_count": 6,
     "metadata": {},
     "output_type": "execute_result"
    }
   ],
   "source": [
    "config.model_dump()\n",
    "config"
   ]
  },
  {
   "cell_type": "code",
   "execution_count": 7,
   "id": "96aa0652-c1aa-4c69-a1c9-a20e5888d1e0",
   "metadata": {},
   "outputs": [],
   "source": [
    "from rag.rag import RAGBuilder"
   ]
  },
  {
   "cell_type": "code",
   "execution_count": 8,
   "id": "18749ad2-877c-489d-a646-345d0ece98a2",
   "metadata": {},
   "outputs": [
    {
     "name": "stderr",
     "output_type": "stream",
     "text": [
      "100%|███████████████████████████████████████████████| 1/1 [00:05<00:00,  5.93s/it]\n"
     ]
    }
   ],
   "source": [
    "rag = RAGBuilder(config)"
   ]
  },
  {
   "cell_type": "code",
   "execution_count": 9,
   "id": "dc2747ad-bc6c-4e6a-bf41-23ec6d526146",
   "metadata": {},
   "outputs": [],
   "source": [
    "from ragas.dataset_schema import SingleTurnSample, EvaluationDataset"
   ]
  },
  {
   "cell_type": "code",
   "execution_count": 10,
   "id": "87834cc1-e93b-4ba0-9b55-5261cb33c5e7",
   "metadata": {},
   "outputs": [],
   "source": [
    "sample = SingleTurnSample(user_input=\"What is an MoE?\", reference=\"MoE is something\")\n",
    "dataset = EvaluationDataset(samples=[sample,sample])"
   ]
  },
  {
   "cell_type": "code",
   "execution_count": 11,
   "id": "97edcea2-be05-476e-80f5-588c75d59241",
   "metadata": {},
   "outputs": [
    {
     "data": {
      "text/html": [
       "<div>\n",
       "<style scoped>\n",
       "    .dataframe tbody tr th:only-of-type {\n",
       "        vertical-align: middle;\n",
       "    }\n",
       "\n",
       "    .dataframe tbody tr th {\n",
       "        vertical-align: top;\n",
       "    }\n",
       "\n",
       "    .dataframe thead th {\n",
       "        text-align: right;\n",
       "    }\n",
       "</style>\n",
       "<table border=\"1\" class=\"dataframe\">\n",
       "  <thead>\n",
       "    <tr style=\"text-align: right;\">\n",
       "      <th></th>\n",
       "      <th>user_input</th>\n",
       "      <th>reference</th>\n",
       "    </tr>\n",
       "  </thead>\n",
       "  <tbody>\n",
       "    <tr>\n",
       "      <th>0</th>\n",
       "      <td>What is an MoE?</td>\n",
       "      <td>MoE is something</td>\n",
       "    </tr>\n",
       "    <tr>\n",
       "      <th>1</th>\n",
       "      <td>What is an MoE?</td>\n",
       "      <td>MoE is something</td>\n",
       "    </tr>\n",
       "  </tbody>\n",
       "</table>\n",
       "</div>"
      ],
      "text/plain": [
       "        user_input         reference\n",
       "0  What is an MoE?  MoE is something\n",
       "1  What is an MoE?  MoE is something"
      ]
     },
     "execution_count": 11,
     "metadata": {},
     "output_type": "execute_result"
    }
   ],
   "source": [
    "dataset.to_pandas()"
   ]
  },
  {
   "cell_type": "code",
   "execution_count": 12,
   "id": "bc7f139d-86c4-4b8f-92b7-465377152f29",
   "metadata": {},
   "outputs": [],
   "source": [
    "from ragas.metrics import ContextPrecision, FactualCorrectness\n",
    "metrics = [FactualCorrectness()]"
   ]
  },
  {
   "cell_type": "code",
   "execution_count": 13,
   "id": "ad01b5ec-a4f9-4f2a-a725-831ada72371b",
   "metadata": {},
   "outputs": [],
   "source": [
    "from ragas.llms import llm_factory\n",
    "llm = llm_factory()"
   ]
  },
  {
   "cell_type": "code",
   "execution_count": 14,
   "id": "bba7061f-205d-4e6f-b880-3b2fe781990f",
   "metadata": {},
   "outputs": [
    {
     "data": {
      "application/vnd.jupyter.widget-view+json": {
       "model_id": "60b39fbcb1a747e794fbe9456d3ca389",
       "version_major": 2,
       "version_minor": 0
      },
      "text/plain": [
       "Evaluating:   0%|          | 0/2 [00:00<?, ?it/s]"
      ]
     },
     "metadata": {},
     "output_type": "display_data"
    }
   ],
   "source": [
    "results = await rag.benchmark(dataset, metrics=metrics,eval_llm=llm)"
   ]
  },
  {
   "cell_type": "code",
   "execution_count": 15,
   "id": "00fdcd37-16d9-4b9c-881c-c097e70e42b5",
   "metadata": {},
   "outputs": [
    {
     "data": {
      "text/plain": [
       "'{\"name\":\"../datasets/Sample_Docs_Markdown/\",\"params\":{\"sample_size\":1,\"show_progress\":true}}'"
      ]
     },
     "execution_count": 15,
     "metadata": {},
     "output_type": "execute_result"
    }
   ],
   "source": [
    "config.directory.model_dump_json()"
   ]
  },
  {
   "cell_type": "code",
   "execution_count": 17,
   "id": "f727a00c-564b-4a08-8f96-f8a3aef84932",
   "metadata": {},
   "outputs": [
    {
     "data": {
      "text/plain": [
       "'ads/fss/fs'"
      ]
     },
     "execution_count": 17,
     "metadata": {},
     "output_type": "execute_result"
    }
   ],
   "source": [
    "import os\n",
    "os.path.join('ads','fss','fs')"
   ]
  },
  {
   "cell_type": "code",
   "execution_count": null,
   "id": "0d77fefd-a6dd-4301-a6b2-d16ce16f0a5d",
   "metadata": {},
   "outputs": [],
   "source": []
  }
 ],
 "metadata": {
  "kernelspec": {
   "display_name": "ragas",
   "language": "python",
   "name": "ragas"
  },
  "language_info": {
   "codemirror_mode": {
    "name": "ipython",
    "version": 3
   },
   "file_extension": ".py",
   "mimetype": "text/x-python",
   "name": "python",
   "nbconvert_exporter": "python",
   "pygments_lexer": "ipython3",
   "version": "3.10.8"
  }
 },
 "nbformat": 4,
 "nbformat_minor": 5
}
